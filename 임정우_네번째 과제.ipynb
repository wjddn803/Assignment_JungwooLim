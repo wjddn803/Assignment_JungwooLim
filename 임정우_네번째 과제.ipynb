{
 "cells": [
  {
   "cell_type": "markdown",
   "metadata": {},
   "source": [
    "## 1. Taxi Fare"
   ]
  },
  {
   "cell_type": "markdown",
   "metadata": {},
   "source": [
    "In a particular jurisdiction, taxi fares consist of a base fare of $4.00, plus $0.25\n",
    "for every 140 meters traveled. Write a function that takes the distance traveled (in\n",
    "kilometers) as its only parameter and returns the total fare as its only result. Write a\n",
    "main program that demonstrates the function."
   ]
  },
  {
   "cell_type": "code",
   "execution_count": 23,
   "metadata": {},
   "outputs": [
    {
     "name": "stdout",
     "output_type": "stream",
     "text": [
      "몇키로를 달렸나요?103.2\n",
      "188.25 $ 입니다\n"
     ]
    }
   ],
   "source": [
    "def fare(kilo):\n",
    "    fare=4.00+0.25*((kilo*1000)//140)\n",
    "    return fare\n",
    "kilometer=float(input(\"몇키로를 달렸나요?\"))\n",
    "print(fare(kilometer),\"$ 입니다\")    "
   ]
  },
  {
   "cell_type": "markdown",
   "metadata": {},
   "source": [
    "## 2. Median of Three Values"
   ]
  },
  {
   "cell_type": "markdown",
   "metadata": {},
   "source": [
    "Write a function that takes three numbers as parameters, and returns the median value\n",
    "of those parameters as its result. Include a main program that reads three values from\n",
    "the user and displays their median."
   ]
  },
  {
   "cell_type": "code",
   "execution_count": 12,
   "metadata": {},
   "outputs": [
    {
     "name": "stdout",
     "output_type": "stream",
     "text": [
      "a: 10\n",
      "b: 3\n",
      "c: 5\n",
      "[3, 5, 10]\n"
     ]
    },
    {
     "data": {
      "text/plain": [
       "5"
      ]
     },
     "execution_count": 12,
     "metadata": {},
     "output_type": "execute_result"
    }
   ],
   "source": [
    "def median(a,b,c):\n",
    "    li=[int(a),int(b),int(c)]\n",
    "    li.sort()\n",
    "    return li[1]\n",
    "median(input(\"a: \"),input(\"b: \"),input(\"c: \"))"
   ]
  },
  {
   "cell_type": "markdown",
   "metadata": {},
   "source": [
    "## 3. Convert an Integer to its Ordinal Number"
   ]
  },
  {
   "cell_type": "markdown",
   "metadata": {},
   "source": [
    "Words like first, second and third are referred to as ordinal numbers. In this exercise,\n",
    "you will write a function that takes an integer as its only parameter and returns a\n",
    "string containing the appropriate English ordinal number as its only result. Your\n",
    "function must handle the integers between 1 and 12 (inclusive). It should return an\n",
    "empty string if a value outside of this range is provided as a parameter. Include a\n",
    "main program that demonstrates your function by displaying each integer from 1 to\n",
    "12 and its ordinal number. Your main program should only run when your file has\n",
    "not been imported into another program."
   ]
  },
  {
   "cell_type": "code",
   "execution_count": 32,
   "metadata": {},
   "outputs": [
    {
     "name": "stdout",
     "output_type": "stream",
     "text": [
      "숫자 입력하세요13\n"
     ]
    },
    {
     "data": {
      "text/plain": [
       "''"
      ]
     },
     "execution_count": 32,
     "metadata": {},
     "output_type": "execute_result"
    }
   ],
   "source": [
    "\n",
    "def ordinal(num):\n",
    "    a=dict()\n",
    "    a[\"\"]=\"\"\n",
    "    a[1]=\"first\"\n",
    "    a[2]=\"second\"\n",
    "    a[3]=\"third\"\n",
    "    a[4]=\"fourth\"\n",
    "    a[5]=\"fifth\"\n",
    "    a[6]=\"sixth\"\n",
    "    a[7]=\"seventh\"\n",
    "    a[8]=\"eighth\"\n",
    "    a[9]=\"ninth\"\n",
    "    a[10]=\"tenth\"\n",
    "    a[11]=\"eleventh\"\n",
    "    a[12]=\"twelfth\"\n",
    "    return a[num]\n",
    "b=input(\"숫자 입력하세요\")\n",
    "number=int(b) if 0<int(b)<13 else \"\"\n",
    "ordinal(number)"
   ]
  },
  {
   "cell_type": "markdown",
   "metadata": {},
   "source": [
    "## 4. Is it a Valid Triangle?"
   ]
  },
  {
   "cell_type": "markdown",
   "metadata": {},
   "source": [
    "If you have 3 straws, possibly of differing lengths, it may or may not be possible\n",
    "to lay them down so that they form a triangle when their ends are touching. For\n",
    "example, if all of the straws have a length of 6 inches. then one can easily construct\n",
    "an equilateral triangle using them. However, if one straw is 6 inches. long, while the\n",
    "other two are each only 2 inches. long, then a triangle cannot be formed. In general,\n",
    "if any one length is greater than or equal to the sum of the other two then the lengths\n",
    "cannot be used to form a triangle. Otherwise they can form a triangle.\n",
    "Write a function that determines whether or not three lengths can form a triangle.\n",
    "The function will take 3 parameters and return a Boolean result. In addition, write a\n",
    "program that reads 3 lengths from the user and demonstrates the behaviour of this\n",
    "function."
   ]
  },
  {
   "cell_type": "code",
   "execution_count": 15,
   "metadata": {},
   "outputs": [
    {
     "name": "stdout",
     "output_type": "stream",
     "text": [
      "첫번째 숫자10\n",
      "두번째 숫자ㅇ\n",
      "다시 숫자를 입력해주세요\n",
      "첫번째 숫자3\n",
      "두번째 숫자1\n",
      "세번째 숫자ㅏ\n",
      "다시 숫자를 입력해주세요\n",
      "첫번째 숫자10\n",
      "두번째 숫자3\n",
      "세번째 숫자9\n",
      "삼각형 가능\n"
     ]
    }
   ],
   "source": [
    "def TriangleCheck(a,b,c):\n",
    "    li = [int(a),int(b),int(c)]\n",
    "    li.sort()\n",
    "    if li[2]>=li[0]+li[1]:\n",
    "        return False\n",
    "    else:\n",
    "        return True\n",
    "\n",
    "while True:\n",
    "    try: \n",
    "        \n",
    "        num1=int(input(\"첫번째 숫자\")) \n",
    "        num2=int(input(\"두번째 숫자\"))\n",
    "        num3=int(input(\"세번째 숫자\"))\n",
    "        if TriangleCheck(num1,num2,num3):\n",
    "            print(\"삼각형 가능\")\n",
    "        else:\n",
    "            print(\"삼각형 불가\")\n",
    "        break;\n",
    "    except:\n",
    "        print(\"다시 숫자를 입력해주세요\")"
   ]
  },
  {
   "cell_type": "markdown",
   "metadata": {},
   "source": [
    "## 5. Is a Number Prime?"
   ]
  },
  {
   "cell_type": "markdown",
   "metadata": {},
   "source": [
    "A prime number is an integer greater than 1 that is only divisible by one and itself.\n",
    "Write a function that determines whether or not its parameter is prime, returning\n",
    "True if it is, and False otherwise. Write a main program that reads an integer\n",
    "from the user and displays a message indicating whether or not it is prime. Ensure\n",
    "that the main program will not run if the file containing your solution is imported\n",
    "into another program."
   ]
  },
  {
   "cell_type": "code",
   "execution_count": 2,
   "metadata": {},
   "outputs": [
    {
     "name": "stdout",
     "output_type": "stream",
     "text": [
      "숫자를 입력해주세요17\n",
      "It is a Prime number\n"
     ]
    }
   ],
   "source": [
    "def PrimeCheck(num):\n",
    "    if len([x for x in range(1,num+1) if num%x==0])==2:\n",
    "        return True\n",
    "    else:\n",
    "        return False\n",
    "\n",
    "while True:\n",
    "    try:\n",
    "        number = int(input(\"숫자를 입력해주세요\"))\n",
    "        if PrimeCheck(number):\n",
    "            print(\"It is a Prime number\")\n",
    "        else:\n",
    "            print(\"it is not a Prime number\")\n",
    "        break;\n",
    "        \n",
    "    except:\n",
    "        print(\"숫자를 다시 입력해주세요\")"
   ]
  }
 ],
 "metadata": {
  "kernelspec": {
   "display_name": "Python 3",
   "language": "python",
   "name": "python3"
  },
  "language_info": {
   "codemirror_mode": {
    "name": "ipython",
    "version": 3
   },
   "file_extension": ".py",
   "mimetype": "text/x-python",
   "name": "python",
   "nbconvert_exporter": "python",
   "pygments_lexer": "ipython3",
   "version": "3.6.5"
  }
 },
 "nbformat": 4,
 "nbformat_minor": 2
}
