{
 "cells": [
  {
   "cell_type": "markdown",
   "metadata": {},
   "source": [
    "## 1"
   ]
  },
  {
   "cell_type": "markdown",
   "metadata": {},
   "source": [
    "In this exercise you will create a program that computes the average of a collection\n",
    "of values entered by the user. The user will enter 0 as a sentinel value to indicate\n",
    "that no further values will be provided. Your program should display an appropriate\n",
    "error message if the first value entered by the user is 0."
   ]
  },
  {
   "cell_type": "code",
   "execution_count": 10,
   "metadata": {},
   "outputs": [
    {
     "name": "stdout",
     "output_type": "stream",
     "text": [
      "1\n",
      "2\n",
      "3\n",
      "4\n",
      "0\n",
      "2.5\n"
     ]
    }
   ],
   "source": [
    "s=[]\n",
    "summ=0\n",
    "flag=True\n",
    "while flag:\n",
    "    num=int(input())\n",
    "    if s:\n",
    "        if num==0:\n",
    "            flag=False\n",
    "        else:\n",
    "            s.append(num)\n",
    "    else:\n",
    "        if num==0:\n",
    "            print(\"처음에는 0 말고 다른 숫자를 입력해주세요.\")\n",
    "        else:\n",
    "            s.append(num)\n",
    "        \n",
    "for i in s:\n",
    "    summ=int(i)+summ\n",
    "\n",
    "print(summ/len(s))\n"
   ]
  },
  {
   "cell_type": "markdown",
   "metadata": {},
   "source": [
    "## 2"
   ]
  },
  {
   "cell_type": "markdown",
   "metadata": {},
   "source": [
    "Write a program that displays a temperature conversion table for degrees Celsius and\n",
    "degrees Fahrenheit. The table should include rows for all temperatures between 0\n",
    "and 100 degrees Celsius that are multiples of 10 degrees Celsius. Include appropriate\n",
    "headings on your columns. The formula for converting between degrees Celsius and\n",
    "degrees Fahrenheit can be found on the internet."
   ]
  },
  {
   "cell_type": "code",
   "execution_count": 12,
   "metadata": {},
   "outputs": [
    {
     "name": "stdout",
     "output_type": "stream",
     "text": [
      "Cel   Faren  \n",
      "1     33.8\n",
      "2     35.6\n",
      "3     37.4\n",
      "4     39.2\n",
      "5     41.0\n",
      "6     42.8\n",
      "7     44.6\n",
      "8     46.4\n",
      "9     48.2\n",
      "10     50.0\n",
      "11     51.8\n",
      "12     53.6\n",
      "13     55.4\n",
      "14     57.2\n",
      "15     59.0\n",
      "16     60.8\n",
      "17     62.6\n",
      "18     64.4\n",
      "19     66.2\n",
      "20     68.0\n",
      "21     69.8\n",
      "22     71.6\n",
      "23     73.4\n",
      "24     75.2\n",
      "25     77.0\n",
      "26     78.8\n",
      "27     80.6\n",
      "28     82.4\n",
      "29     84.2\n",
      "30     86.0\n",
      "31     87.8\n",
      "32     89.6\n",
      "33     91.4\n",
      "34     93.2\n",
      "35     95.0\n",
      "36     96.8\n",
      "37     98.6\n",
      "38     100.4\n",
      "39     102.2\n",
      "40     104.0\n",
      "41     105.8\n",
      "42     107.6\n",
      "43     109.4\n",
      "44     111.2\n",
      "45     113.0\n",
      "46     114.8\n",
      "47     116.6\n",
      "48     118.4\n",
      "49     120.2\n",
      "50     122.0\n",
      "51     123.8\n",
      "52     125.6\n",
      "53     127.4\n",
      "54     129.2\n",
      "55     131.0\n",
      "56     132.8\n",
      "57     134.6\n",
      "58     136.4\n",
      "59     138.2\n",
      "60     140.0\n",
      "61     141.8\n",
      "62     143.6\n",
      "63     145.4\n",
      "64     147.2\n",
      "65     149.0\n",
      "66     150.8\n",
      "67     152.6\n",
      "68     154.4\n",
      "69     156.2\n",
      "70     158.0\n",
      "71     159.8\n",
      "72     161.6\n",
      "73     163.4\n",
      "74     165.2\n",
      "75     167.0\n",
      "76     168.8\n",
      "77     170.6\n",
      "78     172.4\n",
      "79     174.2\n",
      "80     176.0\n",
      "81     177.8\n",
      "82     179.6\n",
      "83     181.4\n",
      "84     183.2\n",
      "85     185.0\n",
      "86     186.8\n",
      "87     188.6\n",
      "88     190.4\n",
      "89     192.2\n",
      "90     194.0\n",
      "91     195.8\n",
      "92     197.6\n",
      "93     199.4\n",
      "94     201.2\n",
      "95     203.0\n",
      "96     204.8\n",
      "97     206.6\n",
      "98     208.4\n",
      "99     210.2\n",
      "100     212.0\n"
     ]
    }
   ],
   "source": [
    "print(\"Cel  \",\"Faren  \")\n",
    "for i in range(1,101):\n",
    "    print(i,\"   \", round(i*1.8+32,2))\n",
    "    "
   ]
  },
  {
   "cell_type": "markdown",
   "metadata": {},
   "source": [
    "## 3"
   ]
  },
  {
   "cell_type": "markdown",
   "metadata": {},
   "source": [
    "Exercise 51 included a table that shows the conversion from letter grades to grade\n",
    "points at a particular academic institution. In this exercise you will compute the\n",
    "grade point average of an arbitrary number of letter grades entered by the user. The\n",
    "user will enter a blank line to indicate that all of the grades have been provided. For\n",
    "example, if the user enters A, followed by C+, followed by B, followed by a blank\n",
    "line then your program should report a grade point average of 3.1.\n",
    "You may find your solution to Exercise 51 helpful when completing this exercise.\n",
    "Your program does not need to do any error checking. It can assume that each value\n",
    "entered by the user will always be a valid letter grade or a blank line."
   ]
  },
  {
   "cell_type": "code",
   "execution_count": 13,
   "metadata": {},
   "outputs": [
    {
     "name": "stdout",
     "output_type": "stream",
     "text": [
      "A+\n",
      "A+\n",
      "B\n",
      "n\n",
      "학점을 다시 입력해주십시오\n",
      "B\n",
      "\n",
      "3.75\n"
     ]
    }
   ],
   "source": [
    "a=dict()\n",
    "summ=0\n",
    "a['A+']=4.5\n",
    "a['A']=4.0\n",
    "a['B+']=3.5\n",
    "a['B']=3.0\n",
    "a['C+']=2.5\n",
    "a['C']=2.0\n",
    "a['D']=1.0\n",
    "a['F']=0.0\n",
    "g=[]\n",
    "flag=True\n",
    "\n",
    "while flag:\n",
    "    grade=input()\n",
    "    if grade:\n",
    "        if grade in ['A+','A','B+','B','C+','C','D','F']:\n",
    "            g.append(grade)\n",
    "        else:\n",
    "            print(\"학점을 다시 입력해주십시오\")\n",
    "    else:\n",
    "        flag=False\n",
    "\n",
    "for i in g:\n",
    "    summ=a[i]+summ\n",
    "GPA=summ/len(g)\n",
    "print(GPA)"
   ]
  },
  {
   "cell_type": "markdown",
   "metadata": {},
   "source": [
    "## 4"
   ]
  },
  {
   "cell_type": "markdown",
   "metadata": {},
   "source": [
    "A particular zoo determines the price of admission based on the age of the guest.\n",
    "Guests 2 years of age and less are admitted without charge. Children between 3 and\n",
    "12 years of age cost $14.00. Seniors aged 65 years and over cost $18.00. Admission\n",
    "for all other guests is $23.00.\n",
    "Create a program that begins by reading the ages of all of the guests in a group\n",
    "from the user, with one age entered on each line. The user will enter a blank line to\n",
    "indicate that there are no more guests in the group. Then your program should display\n",
    "the admission cost for the group with an appropriate message. The cost should be\n",
    "displayed using two decimal places."
   ]
  },
  {
   "cell_type": "code",
   "execution_count": 45,
   "metadata": {
    "scrolled": true
   },
   "outputs": [
    {
     "name": "stdout",
     "output_type": "stream",
     "text": [
      "1\n",
      "1\n",
      "1\n",
      "100\n",
      "111\n",
      "11\n",
      "\n",
      "Total: $ 50.0\n",
      "3 Baby(ies) Free!\n",
      "Children: $ 14.0\n",
      "Adults: $ 0.0\n",
      "Senior: $ 36.0\n"
     ]
    }
   ],
   "source": [
    "baby=0\n",
    "children=0\n",
    "adults=0\n",
    "senior=0\n",
    "summ=0\n",
    "flag=True\n",
    "while flag:\n",
    "    guest = input()\n",
    "    if guest:\n",
    "        if 0<=int(guest)<3:\n",
    "            baby=baby+1\n",
    "        elif 2<int(guest)<13:\n",
    "            children=children+1\n",
    "        elif 12<int(guest)<66:\n",
    "            adults=adults+1\n",
    "        elif 65<int(guest)<150:\n",
    "            senior=senior+1\n",
    "        else:\n",
    "            print(\"나이를 다시 입력해주십시오\")\n",
    "    else:\n",
    "        flag=False\n",
    "        \n",
    "    \n",
    "\n",
    "print(\"Total: $\",baby*0+children*14.00+adults*23.00+senior*18.00)\n",
    "print(baby,\"Baby(ies) Free!\")\n",
    "print(\"Children: $\",children*14.00)\n",
    "print(\"Adults: $\",adults*14.00)\n",
    "print(\"Senior: $\",senior*18.00)"
   ]
  },
  {
   "cell_type": "markdown",
   "metadata": {},
   "source": [
    "## 5"
   ]
  },
  {
   "cell_type": "markdown",
   "metadata": {},
   "source": [
    "A string is a palindrome if it is identical forward and backward. For example “anna”,\n",
    "“civic”, “level” and “hannah” are all examples of palindromicwords. Write a program\n",
    "that reads a string from the user and uses a loop to determines whether or not it is a\n",
    "palindrome. Display the result, including a meaningful output message."
   ]
  },
  {
   "cell_type": "code",
   "execution_count": 3,
   "metadata": {},
   "outputs": [
    {
     "name": "stdout",
     "output_type": "stream",
     "text": [
      "단어를 입력해주십시오level\n",
      "Palindrome입니다!\n"
     ]
    }
   ],
   "source": [
    "a=input(\"단어를 입력해주십시오\")\n",
    "s=''\n",
    "for i in a:\n",
    "    s=s+i\n",
    "\n",
    "if s==a:\n",
    "    print(\"Palindrome입니다!\")\n",
    "else:\n",
    "    print(\"Palindrome이 아닙니다!\")\n"
   ]
  },
  {
   "cell_type": "markdown",
   "metadata": {},
   "source": [
    "## 6"
   ]
  },
  {
   "cell_type": "markdown",
   "metadata": {},
   "source": [
    "In this exercise you will create a program that displays a multiplication table that\n",
    "shows the products of all combinations of integers from 1 times 1 up to and including\n",
    "10 times 10. Your multiplication table should include a row of labels across the top\n",
    "of it containing the numbers 1 through 10. It should also include labels down the left\n",
    "side consisting of the numbers 1 through 10. The expected output from the program\n",
    "is shown below:"
   ]
  },
  {
   "cell_type": "markdown",
   "metadata": {},
   "source": [
    "When completing this exercise you will probably find it helpful to be able to\n",
    "print out a value without moving down to the next line. This can be accomplished\n",
    "by added end=\"\" as the last parameter to your print statement. For example,\n",
    "print(\"A\") will display the letter A and then move down to the next line. The\n",
    "statement print(\"A\", end=\"\") will display the letter A without moving down\n",
    "to the next line, causing the next print statement to display its result on the same line\n",
    "as the letter A."
   ]
  },
  {
   "cell_type": "code",
   "execution_count": 13,
   "metadata": {},
   "outputs": [
    {
     "name": "stdout",
     "output_type": "stream",
     "text": [
      "  \n",
      "1   2   3   4   5   6   7   8   9   10     \n",
      "2   4   6   8   10   12   14   16   18   20     \n",
      "3   6   9   12   15   18   21   24   27   30     \n",
      "4   8   12   16   20   24   28   32   36   40     \n",
      "5   10   15   20   25   30   35   40   45   50     \n",
      "6   12   18   24   30   36   42   48   54   60     \n",
      "7   14   21   28   35   42   49   56   63   70     \n",
      "8   16   24   32   40   48   56   64   72   80     \n",
      "9   18   27   36   45   54   63   72   81   90     \n",
      "10   20   30   40   50   60   70   80   90   100   "
     ]
    }
   ],
   "source": [
    "for i in range(1,11):\n",
    "    print(\"  \")\n",
    "    for k in range(1,11):\n",
    "        print (i*k,\"  \", end=\"\")"
   ]
  },
  {
   "cell_type": "markdown",
   "metadata": {},
   "source": [
    "## 7"
   ]
  },
  {
   "cell_type": "markdown",
   "metadata": {},
   "source": [
    "The greatest common divisor of two positive integers, n and m, is the largest number,\n",
    "d, which divides evenly into both n and m. There are several algorithms that can be\n",
    "used to solve this problem, including:\n",
    "Initialize d to the smaller of m and n.\n",
    "While d does not evenly divide m or d does not evenly divide n do\n",
    "Decrease the value of d by 1\n",
    "Report d as the greatest common divisor of n and m\n",
    "Write a program that reads two positive integers from the user and uses this algorithm\n",
    "to determine and report their greatest common divisor."
   ]
  },
  {
   "cell_type": "code",
   "execution_count": 21,
   "metadata": {},
   "outputs": [
    {
     "name": "stdout",
     "output_type": "stream",
     "text": [
      "first number72\n",
      "second number36\n",
      "36 은/는 최대공약수!\n"
     ]
    }
   ],
   "source": [
    "a=int(input(\"first number\"))\n",
    "b=int(input(\"second number\"))\n",
    "flag=True\n",
    "\n",
    "if a<b:\n",
    "    F=b\n",
    "elif b<a: \n",
    "    F=b\n",
    "else:\n",
    "    F=a\n",
    "d=F\n",
    "while flag and d>0:\n",
    "    if a%d==0 and b%d==0:\n",
    "        print(d,\"은/는 최대공약수!\")\n",
    "        flag=False\n",
    "    else:\n",
    "        d=d-1\n"
   ]
  },
  {
   "cell_type": "markdown",
   "metadata": {},
   "source": [
    "## 8"
   ]
  },
  {
   "cell_type": "markdown",
   "metadata": {},
   "source": [
    "Write a program that converts a binary (base 2) number to decimal (base 10). Your\n",
    "program should begin by reading the binary number from the user as a string. Then\n",
    "it should compute the equivalent decimal number by processing each digit in the\n",
    "binary number. Finally, your program should display the equivalent decimal number\n",
    "with an appropriate message."
   ]
  },
  {
   "cell_type": "code",
   "execution_count": 34,
   "metadata": {},
   "outputs": [
    {
     "name": "stdout",
     "output_type": "stream",
     "text": [
      "1010\n",
      "10\n"
     ]
    }
   ],
   "source": [
    "binary=input()\n",
    "summ=0\n",
    "\n",
    "for i in range(len(binary)):\n",
    "    summ=2**(len(binary)-i-1)*int(binary[i])+summ\n",
    "print(summ)"
   ]
  },
  {
   "cell_type": "markdown",
   "metadata": {},
   "source": [
    "## 9"
   ]
  },
  {
   "cell_type": "markdown",
   "metadata": {},
   "source": [
    "Write a program that converts a decimal (base 10) number to binary (base 2). Read the\n",
    "decimal number from the user as an integer and then use the division algorithm shown\n",
    "below to perform the conversion. When the algorithm completes, result contains the\n",
    "binary representation of the number. Display the result, along with an appropriate\n",
    "message."
   ]
  },
  {
   "cell_type": "code",
   "execution_count": 41,
   "metadata": {},
   "outputs": [
    {
     "name": "stdout",
     "output_type": "stream",
     "text": [
      "5\n",
      "101\n"
     ]
    }
   ],
   "source": [
    "word=int(input())\n",
    "a=[]\n",
    "s=''\n",
    "while word>0.5:\n",
    "    a.append(word%2)\n",
    "    word=word//2\n",
    "for i in a:\n",
    "    s=str(i)+s\n",
    "print(s)\n"
   ]
  }
 ],
 "metadata": {
  "kernelspec": {
   "display_name": "Python 3",
   "language": "python",
   "name": "python3"
  },
  "language_info": {
   "codemirror_mode": {
    "name": "ipython",
    "version": 3
   },
   "file_extension": ".py",
   "mimetype": "text/x-python",
   "name": "python",
   "nbconvert_exporter": "python",
   "pygments_lexer": "ipython3",
   "version": "3.6.5"
  }
 },
 "nbformat": 4,
 "nbformat_minor": 2
}
