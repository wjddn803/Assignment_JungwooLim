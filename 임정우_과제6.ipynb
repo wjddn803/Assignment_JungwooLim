{
 "cells": [
  {
   "cell_type": "markdown",
   "metadata": {},
   "source": [
    "## url을 받아서 parsing한 후 sqlite3로 DB에 key:value형태로 저장하라. "
   ]
  },
  {
   "cell_type": "code",
   "execution_count": 16,
   "metadata": {},
   "outputs": [],
   "source": [
    "import requests"
   ]
  },
  {
   "cell_type": "code",
   "execution_count": 17,
   "metadata": {},
   "outputs": [],
   "source": [
    "from bs4 import BeautifulSoup"
   ]
  },
  {
   "cell_type": "code",
   "execution_count": 18,
   "metadata": {},
   "outputs": [],
   "source": [
    "import sqlite3"
   ]
  },
  {
   "cell_type": "code",
   "execution_count": 19,
   "metadata": {},
   "outputs": [],
   "source": [
    "def makeDB(url):\n",
    "    resp = requests.get(url)\n",
    "    data = BeautifulSoup(resp.content,'lxml')\n",
    "    items = data.findAll('item')\n",
    "    conn = sqlite3.connect('assign.db')\n",
    "    \n",
    "    \n",
    "    conn.executescript(\n",
    "            '''\n",
    "            drop table if exists assign;\n",
    "            drop table if exists Air;\n",
    "            create table Air(\n",
    "                datatime text not null,\n",
    "                mangname text, \n",
    "                so2value text,\n",
    "                covalue text,\n",
    "                o3value text,\n",
    "                no2value text,\n",
    "                pm10value text,\n",
    "                pm10value24 text,\n",
    "                pm25value text,\n",
    "                pm25value24 text,\n",
    "                khaivalue text,\n",
    "                khaigrade text, \n",
    "                so2grade text,\n",
    "                cograde text,\n",
    "                o3grade text,\n",
    "                no2grade text,\n",
    "                pm10grade text,\n",
    "                pm25grade text,\n",
    "                pm10grade1h text,\n",
    "                pm25grade1h text);\n",
    "            ''')\n",
    "    urls=[]\n",
    "    for i,j in enumerate(items):\n",
    "        result = (j.datatime.text,j.mangname.text,j.so2value.text,\n",
    "                  j.covalue.text,j.o3value.text, j.no2value.text,\n",
    "                  j.pm10value.text,j.pm10value24.text,j.pm25value.text,\n",
    "                  j.pm25value24.text,j.khaivalue.text,j.khaigrade.text,\n",
    "                  j.so2grade.text, j.cograde.text,j.o3grade.text,\n",
    "                  j.no2grade.text,j.pm10grade.text,j.pm25grade.text,\n",
    "                  j.pm10grade1h.text,j.pm25grade1h.text)\n",
    "        urls.append(result)\n",
    "    \n",
    "    sql =\"insert into Air values(?,?,?,?,?,?,?,?,?,?,?,?,?,?,?,?,?,?,?,?)\"\n",
    "    \n",
    "    curData = list(urls)\n",
    "    conn.executemany(sql,curData)\n",
    "    conn.commit()\n",
    "    with open('Assignment.sql','w') as f:\n",
    "        f.write('\\n'.join(conn.iterdump()))\n",
    "   \n",
    "    #except:\n",
    "     #   print(\"no..\")"
   ]
  },
  {
   "cell_type": "code",
   "execution_count": 20,
   "metadata": {},
   "outputs": [],
   "source": [
    "makeDB('http://openapi.airkorea.or.kr/openapi/services/rest/ArpltnInforInqireSvc/getMsrstnAcctoRltmMesureDnsty?serviceKey=ckzCRkQ0HOEcHoV%2BZ5N0fDqDm6Jyp4oTXIZdL5NduqXd%2BbEs%2BZOvsAgOmvuR2YgF5uNI88ARNfA726SEAAAHKA%3D%3D&numOfRows=10&pageSize=10&pageNo=1&startPage=1&stationName=%EC%A2%85%EB%A1%9C%EA%B5%AC&dataTerm=DAILY&ver=1.3')"
   ]
  },
  {
   "cell_type": "code",
   "execution_count": null,
   "metadata": {},
   "outputs": [],
   "source": []
  }
 ],
 "metadata": {
  "kernelspec": {
   "display_name": "Python 3",
   "language": "python",
   "name": "python3"
  },
  "language_info": {
   "codemirror_mode": {
    "name": "ipython",
    "version": 3
   },
   "file_extension": ".py",
   "mimetype": "text/x-python",
   "name": "python",
   "nbconvert_exporter": "python",
   "pygments_lexer": "ipython3",
   "version": "3.6.5"
  }
 },
 "nbformat": 4,
 "nbformat_minor": 2
}
