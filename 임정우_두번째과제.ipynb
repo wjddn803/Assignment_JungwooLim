{
 "cells": [
  {
   "cell_type": "markdown",
   "metadata": {},
   "source": [
    "# 임정우_두번째 과제"
   ]
  },
  {
   "cell_type": "markdown",
   "metadata": {},
   "source": [
    "## 1 \n",
    "Write a program that reads integers from the user and stores them in a list. Use 0 as\n",
    "a sentinel value to mark the end of the input. Once all of the values have been read\n",
    "your program should display them (except for the 0) in reverse order, with one value\n",
    "appearing on each line."
   ]
  },
  {
   "cell_type": "code",
   "execution_count": 6,
   "metadata": {},
   "outputs": [
    {
     "name": "stdout",
     "output_type": "stream",
     "text": [
      "harriot0\n",
      "toirrah\n"
     ]
    }
   ],
   "source": [
    "a=input()\n",
    "s=''\n",
    "\n",
    "for i in a:\n",
    "    if i=='0':\n",
    "        break;\n",
    "    else:\n",
    "        s=i+s\n",
    "    \n",
    "print(s)"
   ]
  },
  {
   "cell_type": "markdown",
   "metadata": {},
   "source": [
    "## 2"
   ]
  },
  {
   "cell_type": "markdown",
   "metadata": {},
   "source": [
    "In this exercise, you will create a program that reads words from the user until the\n",
    "user enters a blank line. After the user enters a blank line your program should display\n",
    "each word entered by the user exactly once. The words should be displayed in\n",
    "the same order that they were entered. For example, if the user enters:"
   ]
  },
  {
   "cell_type": "code",
   "execution_count": 7,
   "metadata": {},
   "outputs": [
    {
     "name": "stdout",
     "output_type": "stream",
     "text": [
      "first\n",
      "second\n",
      "third\n",
      "second\n",
      "third\n",
      "\n",
      "['first', 'second', 'third']\n"
     ]
    }
   ],
   "source": [
    "a=list()\n",
    "flag = True\n",
    "while flag:\n",
    "    b=input()\n",
    "    if b :\n",
    "        if b not in a:\n",
    "            a.append(b)\n",
    "        else:\n",
    "            pass\n",
    "    else:\n",
    "        flag=False\n",
    "print(a)"
   ]
  },
  {
   "cell_type": "markdown",
   "metadata": {},
   "source": [
    "## 3"
   ]
  },
  {
   "cell_type": "code",
   "execution_count": 33,
   "metadata": {},
   "outputs": [
    {
     "name": "stdout",
     "output_type": "stream",
     "text": [
      "1\n",
      "3\n",
      "-100\n",
      "1\n",
      "2\n",
      "0\n",
      "[1, 3, -100, 1, 2]\n",
      "[-100, 1, 1, 2, 3]\n"
     ]
    }
   ],
   "source": [
    "a=[]\n",
    "\n",
    "i=0\n",
    "while True:\n",
    "    b=int(input()) \n",
    "    if b:\n",
    "        a.append(b)\n",
    "    else:\n",
    "        break;\n",
    "print(a)\n",
    "a.sort()\n",
    "print(a)"
   ]
  },
  {
   "cell_type": "code",
   "execution_count": 28,
   "metadata": {},
   "outputs": [],
   "source": [
    "a=[1,2,3,4]"
   ]
  },
  {
   "cell_type": "code",
   "execution_count": null,
   "metadata": {},
   "outputs": [],
   "source": [
    "num"
   ]
  },
  {
   "cell_type": "markdown",
   "metadata": {},
   "source": [
    "## 4"
   ]
  },
  {
   "cell_type": "markdown",
   "metadata": {},
   "source": [
    "An integer, n, is said to be perfect when the sum of all of the proper divisors of n is\n",
    "equal to n. For example, 28 is a perfect number because its proper divisors are 1, 2,\n",
    "4, 7 and 14, and 1 + 2 + 4 + 7 + 14 = 28.\n",
    "Write a function that determines whether or not a positive integer is perfect. Your\n",
    "function will take one parameter. If that parameter is a perfect number then your function\n",
    "will return true. Otherwise it will return false. In addition, write a main program\n",
    "that uses your function to identify and display all of the perfect numbers between 1\n",
    "and 10,000. Import your solution to Exercise 109 when completing this task."
   ]
  },
  {
   "cell_type": "code",
   "execution_count": 23,
   "metadata": {},
   "outputs": [
    {
     "name": "stdout",
     "output_type": "stream",
     "text": [
      "1\n",
      "1부터 10000까지의 숫자를 입력하세요\n"
     ]
    }
   ],
   "source": [
    "a=int(input()) \n",
    "b=[]\n",
    "hap=0\n",
    "if 0<a<100:\n",
    "    for i in range(1,a):\n",
    "        if a%i == 0:\n",
    "            b.append(i)\n",
    "        else:\n",
    "            pass\n",
    "    for k in b:\n",
    "        hap=hap+int(k)\n",
    "        \n",
    "    if hap==a:\n",
    "        print(True)\n",
    "    else:\n",
    "        print(False)\n",
    "else:\n",
    "    print(\"1부터 10000까지의 숫자를 입력하세요\")\n"
   ]
  },
  {
   "cell_type": "markdown",
   "metadata": {},
   "source": [
    "## 5"
   ]
  },
  {
   "cell_type": "markdown",
   "metadata": {},
   "source": [
    "Write a function that takes a list of strings as its only parameter. Your function\n",
    "should return a string that contains all of the items in the list formatted in the manner\n",
    "described previously as its only result. While the examples shown previously only\n",
    "include lists containing four elements or less, your function should behave correctly\n",
    "for lists of any length. Include a main program that reads several items from the user,\n",
    "formats them by calling your function, and then displays the result returned by the\n",
    "function."
   ]
  },
  {
   "cell_type": "code",
   "execution_count": 5,
   "metadata": {},
   "outputs": [
    {
     "name": "stdout",
     "output_type": "stream",
     "text": [
      "hello no way\n"
     ]
    },
    {
     "data": {
      "text/plain": [
       "'hello, no,  and way'"
      ]
     },
     "execution_count": 5,
     "metadata": {},
     "output_type": "execute_result"
    }
   ],
   "source": [
    "def manner(b):\n",
    "    a=list(b.split(\" \"))\n",
    "    i=0\n",
    "    s=[]\n",
    "    while i<len(a):\n",
    "        if i<len(a)-1:\n",
    "            s.append(a[i])\n",
    "            s.append(\", \")\n",
    "            \n",
    "            \n",
    "        else:\n",
    "            s.append(\"and \")\n",
    "            s.append(a[i])\n",
    "        i=i+1\n",
    "    \n",
    "    f=''\n",
    "    for i in s:\n",
    "        f=f+i\n",
    "    return f\n",
    "manner(input())"
   ]
  },
  {
   "cell_type": "markdown",
   "metadata": {},
   "source": [
    "## 6"
   ]
  },
  {
   "cell_type": "markdown",
   "metadata": {},
   "source": [
    "In order to win the top prize in a particular lottery, one must match all 6 numbers\n",
    "on his or her ticket to the 6 numbers between 1 and 49 that are drawn by the lottery\n",
    "organizer. Write a program that generates a random selection of 6 numbers for a lottery ticket. Ensure that the 6 numbers selected do not contain any duplicates.\n",
    "Display the numbers in ascending order."
   ]
  },
  {
   "cell_type": "code",
   "execution_count": 35,
   "metadata": {},
   "outputs": [],
   "source": [
    "import random"
   ]
  },
  {
   "cell_type": "code",
   "execution_count": 36,
   "metadata": {},
   "outputs": [],
   "source": [
    "a=list(random.sample(range(1,50),6))\n",
    "a.sort()"
   ]
  },
  {
   "cell_type": "code",
   "execution_count": 37,
   "metadata": {},
   "outputs": [
    {
     "name": "stdout",
     "output_type": "stream",
     "text": [
      "[1, 14, 27, 28, 42, 49]\n"
     ]
    }
   ],
   "source": [
    "print(a)"
   ]
  },
  {
   "cell_type": "markdown",
   "metadata": {},
   "source": [
    "## 7"
   ]
  },
  {
   "cell_type": "markdown",
   "metadata": {},
   "source": [
    "Create a program that determines and displays the number of unique characters in a\n",
    "string entered by the user. For example, Hello, World! has 10 unique characters\n",
    "whilezzzhas only one unique character. Use a dictionary or set to solve this problem."
   ]
  },
  {
   "cell_type": "code",
   "execution_count": 27,
   "metadata": {},
   "outputs": [
    {
     "name": "stdout",
     "output_type": "stream",
     "text": [
      "hello world\n",
      "{'e', 'd', 'l', 'r', 'o', 'h', 'w'}\n"
     ]
    }
   ],
   "source": [
    "a=input()\n",
    "b=set()\n",
    "for i in a:\n",
    "    if i == ' ':\n",
    "        pass\n",
    "    else:\n",
    "        b.add(i)\n",
    "print(b)"
   ]
  },
  {
   "cell_type": "markdown",
   "metadata": {},
   "source": [
    "## 8"
   ]
  },
  {
   "cell_type": "markdown",
   "metadata": {},
   "source": [
    "Two words are anagrams if they contain all of the same letters, but in a different\n",
    "order. For example, “evil” and “live” are anagrams because each contains one e, one\n",
    "i, one l, and one v. Create a program that reads two strings from the user, determines\n",
    "whether or not they are anagrams, and reports the result."
   ]
  },
  {
   "cell_type": "code",
   "execution_count": 7,
   "metadata": {
    "scrolled": true
   },
   "outputs": [
    {
     "name": "stdout",
     "output_type": "stream",
     "text": [
      "first anagram: perfect\n",
      "second anagram: tceferp\n",
      "it is an anagram!\n"
     ]
    }
   ],
   "source": [
    "a=input(\"first anagram: \")\n",
    "b=input(\"second anagram: \")\n",
    "A=list(set(a))\n",
    "B=list(set(b))\n",
    "A.sort()\n",
    "B.sort()\n",
    "if A==B:\n",
    "    for i in range(len(A)):\n",
    "        if list(a).count(A[i]) == list(b).count(B[i]):\n",
    "            pass\n",
    "        else:\n",
    "            break\n",
    "    else:\n",
    "        print(\"it is an anagram!\")\n",
    "else:\n",
    "    print(\"it is not an anagram!\")\n"
   ]
  }
 ],
 "metadata": {
  "kernelspec": {
   "display_name": "Python 3",
   "language": "python",
   "name": "python3"
  },
  "language_info": {
   "codemirror_mode": {
    "name": "ipython",
    "version": 3
   },
   "file_extension": ".py",
   "mimetype": "text/x-python",
   "name": "python",
   "nbconvert_exporter": "python",
   "pygments_lexer": "ipython3",
   "version": "3.6.5"
  }
 },
 "nbformat": 4,
 "nbformat_minor": 2
}
