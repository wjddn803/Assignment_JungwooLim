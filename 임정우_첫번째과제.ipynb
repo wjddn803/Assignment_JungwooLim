{
 "cells": [
  {
   "cell_type": "markdown",
   "metadata": {},
   "source": [
    "## 임정우_첫번째 과제"
   ]
  },
  {
   "cell_type": "markdown",
   "metadata": {},
   "source": [
    "### <관심있는 데이터 분야 - 다양한 데이터와 다양한 분석 경험>"
   ]
  },
  {
   "cell_type": "markdown",
   "metadata": {},
   "source": [
    "\n",
    "> 분석기법 및 환경 파트\n",
    "- R을 제외한 Python으로 분석하는 경험\n",
    "- 인공신경망 분석"
   ]
  },
  {
   "cell_type": "markdown",
   "metadata": {},
   "source": [
    "제가 현재 가장 관심있어 하는 분야는 파이썬을 통한 데이터 처리와 분석 분야입니다. 저는 이전까지 python이 아닌 R로만 데이터 전처리와 분석을 진행했습니다. 그러나 저는 python이 좀 더 다양한 라이브러리와 패키지를 가지고 있다고 느꼈고 데이터 과학자가 되려면 python이 필수적이라고 생각했습니다. 더 나아가 정말 크기가 데이터를 다루는 다양한 분석 툴도 경험해 보고 싶습니다. "
   ]
  },
  {
   "cell_type": "markdown",
   "metadata": {},
   "source": [
    "분석 기법 중에서는 인공신경망을 통해 데이터를 분석하는 부분이 가장 흥미롭습니다. 저는 R로 boosting이나 random forest, 여러 회귀모형 들을 돌려보았으나, 인공신경망은 아직 돌려보지 못했고, 이는 python을 통해서 돌리는게 가장 적합하다고 생각하여 현 교육을 듣고 있습니다. "
   ]
  },
  {
   "cell_type": "markdown",
   "metadata": {},
   "source": [
    "---"
   ]
  },
  {
   "cell_type": "markdown",
   "metadata": {},
   "source": [
    "> 데이터 파트\n",
    "- 대용량 데이터\n",
    "- 텍스트 데이터"
   ]
  },
  {
   "cell_type": "markdown",
   "metadata": {},
   "source": [
    "이미지, 대용량, 텍스트 데이터 등 관심있는 데이터는 많지만, 가장 관심이 있는 분야는 대용량 데이터르 처리와 자연어 처리입니다. 먼저 저는 이전에 R로 obs 40만개 정도의 데이터를 돌려보았으나, 느린 처리 속도와 낮은 생산성으로 다른 돌파구가 필요하다고 생각했습니다. 실제로 현업에서 쓰이는 데이터는 40만개 이상일 경우가 많을 것이라고 판단했기 때문입니다. 그렇기 때문에 대용량 DB 에서 데이터를 끌어올 수 있도록 DB에서 데이터를 검색하여 추출하는 SQL문도 관심이 많습니다. "
   ]
  },
  {
   "cell_type": "markdown",
   "metadata": {},
   "source": [
    "또한 자연어 처리는 제가 ibm watson analytics에서 자연어를 통해 분석 환경을 편하게 도와주는 것을 보고 매우 유용하고 가장 인간적이라고 생각했기에 관심이 생겼습니다. 또한 text 데이터를 가지고 wordcloud로만 인사이트를 도출하지 않고 문장 구조와 선택어휘 등을 통해 좀 더 심도있는 분석을 해 보고 싶습니다. "
   ]
  },
  {
   "cell_type": "markdown",
   "metadata": {},
   "source": [
    "---"
   ]
  },
  {
   "cell_type": "markdown",
   "metadata": {},
   "source": [
    "### 결론 - 그치만 지금은 대용량 데이터가 가장 관심 분야!"
   ]
  },
  {
   "cell_type": "markdown",
   "metadata": {},
   "source": [
    "저는 데이터 분석 중에서도 좀 더 다양하고 포괄적인 데이터를 다룰 수 있는 사람이 되고 싶습니다. 특히 대용량 데이터를 자유자재로 다루는 사람이 꼭 되고 싶기에 DB를 사용할 수 있는 SQL, 그리고 분석 툴에 가장 관심이 많습니다. 단순히 엑셀로 열 수 있는 그런 데이터 말고, 정말 용량이 커서 엄두가 나지 않는 데이터를 만나 도전해보고 분석해보고 싶습니다. "
   ]
  }
 ],
 "metadata": {
  "kernelspec": {
   "display_name": "Python 3",
   "language": "python",
   "name": "python3"
  },
  "language_info": {
   "codemirror_mode": {
    "name": "ipython",
    "version": 3
   },
   "file_extension": ".py",
   "mimetype": "text/x-python",
   "name": "python",
   "nbconvert_exporter": "python",
   "pygments_lexer": "ipython3",
   "version": "3.6.5"
  }
 },
 "nbformat": 4,
 "nbformat_minor": 2
}
